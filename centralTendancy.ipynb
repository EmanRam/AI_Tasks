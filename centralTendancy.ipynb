{
 "cells": [
  {
   "cell_type": "code",
   "execution_count": 7,
   "metadata": {},
   "outputs": [
    {
     "name": "stdout",
     "output_type": "stream",
     "text": [
      "please enter the length : 4\n",
      "enter one number : 1\n",
      "enter one number : 2\n",
      "enter one number : 3\n",
      "enter one number : 4\n",
      "2.5\n"
     ]
    }
   ],
   "source": [
    "#implementation for mean\n",
    "\n",
    "#definition\n",
    "def meanfun():\n",
    "    list1 = []\n",
    "    length = int (input(\"please enter the length : \"))\n",
    "    for i in range(length):\n",
    "        y = int (input(\"enter one number : \"))\n",
    "        list1.append(y)\n",
    "    \n",
    "    sum1 = 0\n",
    "    for i in list1:\n",
    "        sum1 += i\n",
    "    print(sum1/len(list1))\n",
    "        \n",
    "#calling\n",
    "meanfun()"
   ]
  },
  {
   "cell_type": "code",
   "execution_count": 16,
   "metadata": {},
   "outputs": [
    {
     "name": "stdout",
     "output_type": "stream",
     "text": [
      "enter the length : 6\n",
      "enter one number : 4\n",
      "enter one number : 3\n",
      "enter one number : 5\n",
      "enter one number : 8\n",
      "enter one number : 19\n",
      "enter one number : 4\n",
      "enter the number you want to cut : 2\n",
      "6.5\n"
     ]
    }
   ],
   "source": [
    "#implementation for trimmed mean\n",
    "\n",
    "#definition \n",
    "def trimmedMean():\n",
    "    list0 = []\n",
    "    length = int (input(\"enter the length : \"))\n",
    "    for i in range(l) :\n",
    "        y = int(input(\"enter one number : \"))\n",
    "        list0.append(y)\n",
    "        \n",
    "    cut=int (input(\"enter the number you want to cut : \"))\n",
    "    \n",
    "    newlist = []\n",
    "    for n in range(0+cut , length-cut):\n",
    "        newlist.append(list0[n])\n",
    "    sum0 = 0\n",
    "    newlength = length- 2*cut\n",
    "    for i in range(newlength):\n",
    "        sum0 += newlist[i] \n",
    "    mean=sum0 / newlength\n",
    "    print (mean)\n",
    "    \n",
    "    \n",
    "#calling\n",
    "trimmedMean()"
   ]
  },
  {
   "cell_type": "code",
   "execution_count": 10,
   "metadata": {},
   "outputs": [
    {
     "name": "stdout",
     "output_type": "stream",
     "text": [
      "please enter the length : 4\n",
      "enter one number : 5\n",
      "enter one number : 4\n",
      "enter one number : 2\n",
      "enter one number : 1\n",
      "4.5\n"
     ]
    }
   ],
   "source": [
    "#implement median for a list of even length\n",
    "\n",
    "#definition\n",
    "def medianfun():\n",
    "    \n",
    "    list3 = []\n",
    "    length = int (input(\"please enter the length : \"))\n",
    "    for i in range(length):\n",
    "        y = int (input(\"enter one number : \"))\n",
    "        list3.append(y)\n",
    "    \n",
    "    list3 = sorted(list3)\n",
    "    \n",
    "    if (length % 2 != 0):\n",
    "            \n",
    "            m = list3[length //2]\n",
    "            print(m)\n",
    "            \n",
    "    else:\n",
    "            \n",
    "            a = list3[length//2]\n",
    "            b = list3[(length//2)+1]\n",
    "            m = (a + b)/2\n",
    "            print(m)\n",
    "\n",
    "#calling\n",
    "medianfun()\n",
    "\n"
   ]
  },
  {
   "cell_type": "code",
   "execution_count": null,
   "metadata": {},
   "outputs": [],
   "source": [
    "# mode implementation\n",
    "\n",
    "#definition\n",
    "def mode(list2):\n",
    "    mode_number = 0\n",
    "    \n",
    "    for i in list2: \n",
    "        if (list2.count(i) > list2.count(mode_number)):\n",
    "            mode_number = i\n",
    "    print(mode_number)\n",
    "\n",
    "    \n",
    "#calling\n",
    "list2 = [1 ,5 ,5, 6 ,7 ,10 , 8]\n",
    "list2.sort()\n",
    "mode(list2)"
   ]
  },
  {
   "cell_type": "code",
   "execution_count": 14,
   "metadata": {},
   "outputs": [
    {
     "name": "stdout",
     "output_type": "stream",
     "text": [
      "please enter the length of the list     6\n",
      "please enter one number of the list     4\n",
      "please enter one number of the list     3\n",
      "please enter one number of the list     5\n",
      "please enter one number of the list     6\n",
      "please enter one number of the list     7\n",
      "please enter one number of the list     10\n",
      "please enter the num u want to cut   2\n",
      "5.5\n"
     ]
    }
   ],
   "source": [
    "#trimmed of mean\n"
   ]
  },
  {
   "cell_type": "code",
   "execution_count": null,
   "metadata": {},
   "outputs": [],
   "source": []
  },
  {
   "cell_type": "code",
   "execution_count": null,
   "metadata": {},
   "outputs": [],
   "source": []
  }
 ],
 "metadata": {
  "kernelspec": {
   "display_name": "Python 3",
   "language": "python",
   "name": "python3"
  },
  "language_info": {
   "codemirror_mode": {
    "name": "ipython",
    "version": 3
   },
   "file_extension": ".py",
   "mimetype": "text/x-python",
   "name": "python",
   "nbconvert_exporter": "python",
   "pygments_lexer": "ipython3",
   "version": "3.8.5"
  }
 },
 "nbformat": 4,
 "nbformat_minor": 4
}
